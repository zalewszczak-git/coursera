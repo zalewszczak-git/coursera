{
 "cells": [
  {
   "cell_type": "markdown",
   "id": "7756932f-a976-43ba-b2ae-4bb2875fc994",
   "metadata": {},
   "source": [
    "My first jupyter"
   ]
  },
  {
   "cell_type": "code",
   "execution_count": 1,
   "id": "2cc47a15-3f98-4f5f-aff4-1d1048ac2b30",
   "metadata": {},
   "outputs": [
    {
     "ename": "NameError",
     "evalue": "name 'HEllO' is not defined",
     "output_type": "error",
     "traceback": [
      "\u001b[0;31m---------------------------------------------------------------------------\u001b[0m",
      "\u001b[0;31mNameError\u001b[0m                                 Traceback (most recent call last)",
      "Cell \u001b[0;32mIn[1], line 1\u001b[0m\n\u001b[0;32m----> 1\u001b[0m \u001b[43mHEllO\u001b[49m\n",
      "\u001b[0;31mNameError\u001b[0m: name 'HEllO' is not defined"
     ]
    }
   ],
   "source": [
    "HEllO"
   ]
  },
  {
   "cell_type": "markdown",
   "id": "19490306-1917-4264-ba4f-3125312acf73",
   "metadata": {},
   "source": [
    "Hello"
   ]
  },
  {
   "cell_type": "markdown",
   "id": "83859b89-d02a-4826-afdd-5c3a096dbc24",
   "metadata": {},
   "source": [
    "Hello Everybody"
   ]
  },
  {
   "cell_type": "code",
   "execution_count": 2,
   "id": "11696efc-cbc9-4deb-b651-2c6b38c3510d",
   "metadata": {},
   "outputs": [
    {
     "ename": "NameError",
     "evalue": "name 'Phyton' is not defined",
     "output_type": "error",
     "traceback": [
      "\u001b[0;31m---------------------------------------------------------------------------\u001b[0m",
      "\u001b[0;31mNameError\u001b[0m                                 Traceback (most recent call last)",
      "Cell \u001b[0;32mIn[2], line 1\u001b[0m\n\u001b[0;32m----> 1\u001b[0m \u001b[43mPhyton\u001b[49m\n\u001b[1;32m      2\u001b[0m Julia\n",
      "\u001b[0;31mNameError\u001b[0m: name 'Phyton' is not defined"
     ]
    }
   ],
   "source": [
    "Phyton\n",
    "Julia"
   ]
  },
  {
   "cell_type": "markdown",
   "id": "b974b84f-9cb5-4ce9-977d-d471d4c928c5",
   "metadata": {},
   "source": [
    "Pyton\n",
    "Julia\n",
    "R\n",
    "SQL"
   ]
  },
  {
   "cell_type": "code",
   "execution_count": 3,
   "id": "46f2c1f9-fb44-4563-b1a9-ae8673251b8c",
   "metadata": {},
   "outputs": [
    {
     "ename": "NameError",
     "evalue": "name 'NumPy' is not defined",
     "output_type": "error",
     "traceback": [
      "\u001b[0;31m---------------------------------------------------------------------------\u001b[0m",
      "\u001b[0;31mNameError\u001b[0m                                 Traceback (most recent call last)",
      "Cell \u001b[0;32mIn[3], line 1\u001b[0m\n\u001b[0;32m----> 1\u001b[0m \u001b[43mNumPy\u001b[49m\n",
      "\u001b[0;31mNameError\u001b[0m: name 'NumPy' is not defined"
     ]
    }
   ],
   "source": [
    "NumPy"
   ]
  },
  {
   "cell_type": "markdown",
   "id": "729ed302-050d-4563-83b8-6124edff1b04",
   "metadata": {},
   "source": [
    "NumPy\n",
    "Pandas\n",
    "Scikit-learn"
   ]
  },
  {
   "cell_type": "markdown",
   "id": "447b5614-a3aa-4470-8e7c-3a592c45a87c",
   "metadata": {},
   "source": [
    "Jupyter\n",
    "R Studio"
   ]
  },
  {
   "cell_type": "code",
   "execution_count": 4,
   "id": "2c3e25b5-ebc0-4164-bf9d-3f868b9404e5",
   "metadata": {},
   "outputs": [
    {
     "data": {
      "text/plain": [
       "6"
      ]
     },
     "execution_count": 4,
     "metadata": {},
     "output_type": "execute_result"
    }
   ],
   "source": [
    "6"
   ]
  },
  {
   "cell_type": "code",
   "execution_count": 5,
   "id": "3a4a5036-bc2a-4c78-9761-4fe52556ba6b",
   "metadata": {},
   "outputs": [
    {
     "data": {
      "text/plain": [
       "14"
      ]
     },
     "execution_count": 5,
     "metadata": {},
     "output_type": "execute_result"
    }
   ],
   "source": [
    "6+4*2"
   ]
  },
  {
   "cell_type": "markdown",
   "id": "88203673-6b72-457a-b85d-8a6a2105c9ff",
   "metadata": {},
   "source": [
    "Mon\n",
    "Thu\n",
    "Wen\n",
    "Thr"
   ]
  },
  {
   "cell_type": "markdown",
   "id": "4731f5d7-f342-4c71-94e7-a9ae42f73e36",
   "metadata": {},
   "source": [
    "Mon Thu Wen Thr\n"
   ]
  },
  {
   "cell_type": "markdown",
   "id": "2a9b3bd6-8437-4419-a368-734cf1d0ee42",
   "metadata": {},
   "source": [
    "Aga"
   ]
  },
  {
   "cell_type": "code",
   "execution_count": null,
   "id": "9cb12f20-af89-4b76-88d5-1997445168b3",
   "metadata": {},
   "outputs": [],
   "source": []
  }
 ],
 "metadata": {
  "kernelspec": {
   "display_name": "Python 3 (ipykernel)",
   "language": "python",
   "name": "python3"
  },
  "language_info": {
   "codemirror_mode": {
    "name": "ipython",
    "version": 3
   },
   "file_extension": ".py",
   "mimetype": "text/x-python",
   "name": "python",
   "nbconvert_exporter": "python",
   "pygments_lexer": "ipython3",
   "version": "3.12.8"
  }
 },
 "nbformat": 4,
 "nbformat_minor": 5
}
